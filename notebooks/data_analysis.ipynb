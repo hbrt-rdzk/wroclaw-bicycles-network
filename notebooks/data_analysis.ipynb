{
 "cells": [
  {
   "cell_type": "code",
   "execution_count": 2,
   "metadata": {
    "tags": []
   },
   "outputs": [],
   "source": [
    "import numpy as np\n",
    "import pandas as pd \n",
    "import matplotlib.pyplot as plt\n",
    "import networkx as nx"
   ]
  },
  {
   "cell_type": "code",
   "execution_count": 6,
   "metadata": {
    "tags": []
   },
   "outputs": [],
   "source": [
    "bikes_df = pd.read_csv('../dataset/processed/processed_dataset.csv')"
   ]
  },
  {
   "cell_type": "markdown",
   "metadata": {},
   "source": [
    "### Podstawowe parametry danych"
   ]
  },
  {
   "cell_type": "code",
   "execution_count": 11,
   "metadata": {
    "tags": []
   },
   "outputs": [
    {
     "data": {
      "text/plain": [
       "(4643014, 7)"
      ]
     },
     "execution_count": 11,
     "metadata": {},
     "output_type": "execute_result"
    }
   ],
   "source": [
    "# ile wierszy i kolumn\n",
    "bikes_df.shape"
   ]
  },
  {
   "cell_type": "code",
   "execution_count": 12,
   "metadata": {
    "tags": []
   },
   "outputs": [
    {
     "data": {
      "text/plain": [
       "Index(['uid', 'bike_number', 'start_time', 'end_time', 'rental_place',\n",
       "       'return_place', 'duration'],\n",
       "      dtype='object')"
      ]
     },
     "execution_count": 12,
     "metadata": {},
     "output_type": "execute_result"
    }
   ],
   "source": [
    "# jakie kolumny\n",
    "bikes_df.columns"
   ]
  },
  {
   "cell_type": "code",
   "execution_count": 10,
   "metadata": {
    "tags": []
   },
   "outputs": [
    {
     "data": {
      "text/html": [
       "<div>\n",
       "<style scoped>\n",
       "    .dataframe tbody tr th:only-of-type {\n",
       "        vertical-align: middle;\n",
       "    }\n",
       "\n",
       "    .dataframe tbody tr th {\n",
       "        vertical-align: top;\n",
       "    }\n",
       "\n",
       "    .dataframe thead th {\n",
       "        text-align: right;\n",
       "    }\n",
       "</style>\n",
       "<table border=\"1\" class=\"dataframe\">\n",
       "  <thead>\n",
       "    <tr style=\"text-align: right;\">\n",
       "      <th></th>\n",
       "      <th>uid</th>\n",
       "      <th>bike_number</th>\n",
       "      <th>start_time</th>\n",
       "      <th>end_time</th>\n",
       "      <th>rental_place</th>\n",
       "      <th>return_place</th>\n",
       "      <th>duration</th>\n",
       "    </tr>\n",
       "  </thead>\n",
       "  <tbody>\n",
       "    <tr>\n",
       "      <th>0</th>\n",
       "      <td>111139579</td>\n",
       "      <td>651289</td>\n",
       "      <td>2020-12-29 12:46:41</td>\n",
       "      <td>2021-01-05 13:13:00</td>\n",
       "      <td>al. Brücknera / Kwidzyńska</td>\n",
       "      <td>al. Brücknera / Kwidzyńska</td>\n",
       "      <td>10107</td>\n",
       "    </tr>\n",
       "    <tr>\n",
       "      <th>1</th>\n",
       "      <td>111184502</td>\n",
       "      <td>651466</td>\n",
       "      <td>2020-12-31 23:39:21</td>\n",
       "      <td>2021-01-01 00:27:47</td>\n",
       "      <td>Zachodnia / Poznańska</td>\n",
       "      <td>Legnicka / Zachodnia</td>\n",
       "      <td>49</td>\n",
       "    </tr>\n",
       "    <tr>\n",
       "      <th>2</th>\n",
       "      <td>111184651</td>\n",
       "      <td>650178</td>\n",
       "      <td>2021-01-01 00:10:09</td>\n",
       "      <td>2021-01-01 00:15:27</td>\n",
       "      <td>Traugutta / Kościuszki</td>\n",
       "      <td>Traugutta / Kościuszki</td>\n",
       "      <td>6</td>\n",
       "    </tr>\n",
       "    <tr>\n",
       "      <th>3</th>\n",
       "      <td>111184655</td>\n",
       "      <td>651385</td>\n",
       "      <td>2021-01-01 00:10:42</td>\n",
       "      <td>2021-01-01 00:20:17</td>\n",
       "      <td>Pilczycka / Kozanowska</td>\n",
       "      <td>Drzewieckiego / Dedala</td>\n",
       "      <td>10</td>\n",
       "    </tr>\n",
       "    <tr>\n",
       "      <th>4</th>\n",
       "      <td>111184679</td>\n",
       "      <td>651165</td>\n",
       "      <td>2021-01-01 00:15:47</td>\n",
       "      <td>2021-01-01 00:41:10</td>\n",
       "      <td>Kozanowska / Pilczycka</td>\n",
       "      <td>Bezpieczna / Obornicka</td>\n",
       "      <td>26</td>\n",
       "    </tr>\n",
       "    <tr>\n",
       "      <th>5</th>\n",
       "      <td>111185059</td>\n",
       "      <td>57595</td>\n",
       "      <td>2021-01-01 01:12:57</td>\n",
       "      <td>2021-01-01 01:35:42</td>\n",
       "      <td>Średzka / Dolnobrzeska</td>\n",
       "      <td>Średzka / Dolnobrzeska</td>\n",
       "      <td>23</td>\n",
       "    </tr>\n",
       "    <tr>\n",
       "      <th>6</th>\n",
       "      <td>111185061</td>\n",
       "      <td>650971</td>\n",
       "      <td>2021-01-01 01:13:06</td>\n",
       "      <td>2021-01-01 01:35:33</td>\n",
       "      <td>Średzka / Dolnobrzeska</td>\n",
       "      <td>Średzka / Dolnobrzeska</td>\n",
       "      <td>23</td>\n",
       "    </tr>\n",
       "  </tbody>\n",
       "</table>\n",
       "</div>"
      ],
      "text/plain": [
       "         uid  bike_number           start_time             end_time  \\\n",
       "0  111139579       651289  2020-12-29 12:46:41  2021-01-05 13:13:00   \n",
       "1  111184502       651466  2020-12-31 23:39:21  2021-01-01 00:27:47   \n",
       "2  111184651       650178  2021-01-01 00:10:09  2021-01-01 00:15:27   \n",
       "3  111184655       651385  2021-01-01 00:10:42  2021-01-01 00:20:17   \n",
       "4  111184679       651165  2021-01-01 00:15:47  2021-01-01 00:41:10   \n",
       "5  111185059        57595  2021-01-01 01:12:57  2021-01-01 01:35:42   \n",
       "6  111185061       650971  2021-01-01 01:13:06  2021-01-01 01:35:33   \n",
       "\n",
       "                 rental_place                return_place  duration  \n",
       "0  al. Brücknera / Kwidzyńska  al. Brücknera / Kwidzyńska     10107  \n",
       "1       Zachodnia / Poznańska       Legnicka / Zachodnia         49  \n",
       "2      Traugutta / Kościuszki      Traugutta / Kościuszki         6  \n",
       "3      Pilczycka / Kozanowska      Drzewieckiego / Dedala        10  \n",
       "4      Kozanowska / Pilczycka      Bezpieczna / Obornicka        26  \n",
       "5     Średzka / Dolnobrzeska      Średzka / Dolnobrzeska         23  \n",
       "6     Średzka / Dolnobrzeska      Średzka / Dolnobrzeska         23  "
      ]
     },
     "execution_count": 10,
     "metadata": {},
     "output_type": "execute_result"
    }
   ],
   "source": [
    "bikes_df.head(7)"
   ]
  },
  {
   "cell_type": "code",
   "execution_count": 16,
   "metadata": {
    "tags": []
   },
   "outputs": [
    {
     "name": "stdout",
     "output_type": "stream",
     "text": [
      "rental_place: 246 różnych wartości\n",
      "return_place: 312 różnych wartości\n",
      "rental_place i return_place wspólnie: 315 różnych wartości\n"
     ]
    }
   ],
   "source": [
    "# liczba różnych wartości dla rental_place i return_place\n",
    "print(f'rental_place: {len(set(bikes_df[\"rental_place\"]))} różnych wartości')\n",
    "print(f'return_place: {len(set(bikes_df[\"return_place\"]))} różnych wartości')\n",
    "both = len(\n",
    "    set.union(\n",
    "        set(bikes_df[\"rental_place\"]),  set(bikes_df[\"return_place\"])\n",
    "    )\n",
    ")\n",
    "print(f'rental_place i return_place wspólnie: {both} różnych wartości')"
   ]
  },
  {
   "cell_type": "code",
   "execution_count": 22,
   "metadata": {
    "tags": []
   },
   "outputs": [
    {
     "data": {
      "text/plain": [
       "Text(0, 0.5, 'liczba przejazdów')"
      ]
     },
     "execution_count": 22,
     "metadata": {},
     "output_type": "execute_result"
    },
    {
     "data": {
      "image/png": "[encoded data removed]",
      "text/plain": [
       "<Figure size 640x480 with 1 Axes>"
      ]
     },
     "metadata": {},
     "output_type": "display_data"
    }
   ],
   "source": [
    "# rozkład czasu przejazdu (bez outlierów)\n",
    "\n",
    "dur = bikes_df[\"duration\"]\n",
    "dur_no_outliers = dur[dur < dur.quantile(0.95)]\n",
    "\n",
    "fig, ax = plt.subplots()\n",
    "ax.hist(dur_no_outliers)\n",
    "ax.set_title(\"Rozkład czasu przejazdu\")\n",
    "ax.set_xlabel(\"czas [min]\")\n",
    "ax.set_ylabel(\"liczba przejazdów\")"
   ]
  },
  {
   "cell_type": "code",
   "execution_count": null,
   "metadata": {},
   "outputs": [],
   "source": []
  }
 ],
 "metadata": {
  "kernelspec": {
   "display_name": "Python 3 (ipykernel)",
   "language": "python",
   "name": "python3"
  },
  "language_info": {
   "codemirror_mode": {
    "name": "ipython",
    "version": 3
   },
   "file_extension": ".py",
   "mimetype": "text/x-python",
   "name": "python",
   "nbconvert_exporter": "python",
   "pygments_lexer": "ipython3",
   "version": "3.10.6"
  }
 },
 "nbformat": 4,
 "nbformat_minor": 4
}
